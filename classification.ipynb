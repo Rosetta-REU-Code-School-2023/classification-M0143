{
  "cells": [
    {
      "attachments": {},
      "cell_type": "markdown",
      "metadata": {
        "id": "Hc3i1WYpePZt"
      },
      "source": [
        "# Iris Dataset\n",
        "\n",
        "![image.png](https://storage.googleapis.com/kaggle-datasets-images/19/19/default-backgrounds/dataset-cover.jpg)\n",
        "\n",
        "The Iris dataset was used in R.A. Fisher's classic 1936 paper, The Use of Multiple Measurements in Taxonomic Problems.\n",
        "\n",
        "It includes three iris species with 50 samples each as well as the following properties about each flower:\n",
        "- Sepal length (cm)\n",
        "- Sepal width (cm)\n",
        "- Petal length (cm)\n",
        "- Petal width (cm)\n",
        "\n"
      ]
    },
    {
      "attachments": {},
      "cell_type": "markdown",
      "metadata": {
        "id": "OxT1b9picWds"
      },
      "source": [
        "# Dataset Loading\n",
        "A collection of data is called dataset. We need datasets to train machine learning models. Datasets have the two following components:\n",
        "\n",
        "## Features\n",
        "The variables of data are called its features. These are the inputs to a machine learning model.\n",
        "\n",
        "**Feature names**: List of all the names of the features.\n",
        "\n",
        "**Feature matrix**: Collection of features, typically in a matrix or vector format if there is more than one feature.\n",
        "\n",
        "## Label\n",
        "The output variables that depends upon the feature variables. These are what the machine learning model seeks to predict, sometimes called the target.\n",
        "\n",
        "**Target names**: List of possible values that the model can output\n",
        "\n",
        "**Target vector**: True target value for each item in the dataset."
      ]
    },
    {
      "cell_type": "code",
      "execution_count": null,
      "metadata": {
        "id": "2ZaWbOrLb9ue"
      },
      "outputs": [],
      "source": [
        "# Dataset loading code snippet:\n",
        "\n",
        "from sklearn.datasets import load_iris\n",
        "\n",
        "iris = load_iris() # load the iris dataset\n",
        "X = iris.data # feature matrix\n",
        "y = iris.target # target vector\n",
        "feature_names = iris.feature_names\n",
        "target_names = iris.target_names\n",
        "\n",
        "print(\"Feature names:\", feature_names)\n",
        "print(\"Target names:\", target_names)"
      ]
    },
    {
      "attachments": {},
      "cell_type": "markdown",
      "metadata": {
        "id": "ug0ldZYqffgt"
      },
      "source": [
        "# Data investigation\n",
        "\n",
        "The iris dataset contains 150 data point, each with a feature vector containing four measurements. Each data point corresponds to a particular type of flower. \n",
        "\n",
        "In the following exercises, we will familiarize ourselves with the format of the dataset."
      ]
    },
    {
      "attachments": {},
      "cell_type": "markdown",
      "metadata": {
        "id": "NiXaXI37gjOh"
      },
      "source": [
        "## Data layout\n",
        "\n",
        "The feature matrix X contains 150 data points with 4 features each.\n",
        "\n",
        "In the space below, determine the layout of the data in X. How are the data points organized? Do the feature values make sense?"
      ]
    },
    {
      "cell_type": "code",
      "execution_count": null,
      "metadata": {
        "id": "UPk30LQgfe3C"
      },
      "outputs": [],
      "source": [
        "raise NotImplementedError(\"Add your code here!\")\n",
        "\n",
        "\n",
        "# Your answer here"
      ]
    },
    {
      "attachments": {},
      "cell_type": "markdown",
      "metadata": {
        "id": "_VTMma5zggrj"
      },
      "source": [
        "## Data visualization\n",
        "\n",
        "Before buiding a machine learning model, it is useful to visualize the feature and target data to understand the task at hand.\n",
        "\n",
        "We can look for patterns within individual features or dependencies between features. These patterns will be useful for the model in learning to predict the target labels."
      ]
    },
    {
      "cell_type": "code",
      "execution_count": null,
      "metadata": {
        "id": "oyOKYzx_cBD5"
      },
      "outputs": [],
      "source": [
        "import matplotlib.pyplot as plt\n",
        "\n",
        "sepal_length = X[:, 0]\n",
        "plt.hist(sepal_length)\n",
        "plt.xlabel(\"Sepal Length (cm)\")\n",
        "plt.ylabel(\"Count\")"
      ]
    },
    {
      "attachments": {},
      "cell_type": "markdown",
      "metadata": {
        "id": "7s-Vx_UUhoV1"
      },
      "source": [
        "In the space below, create histograms for the other features. Do any patterns emerge that may be useful for distinguishing between different types of flowers?"
      ]
    },
    {
      "cell_type": "code",
      "execution_count": null,
      "metadata": {
        "id": "vlXRtydRhnWn"
      },
      "outputs": [],
      "source": [
        "raise NotImplementedError(\"Add your code here!\")\n",
        "\n",
        "\n",
        "# Your answer here"
      ]
    },
    {
      "attachments": {},
      "cell_type": "markdown",
      "metadata": {
        "id": "tXYOtAvAisV6"
      },
      "source": [
        "Machine learning models can also learn from combinations of features. In the space below, try plotting scatter plots of pairs of features. Do any patterns emerge that may be useful for distinguishing between different types of flowers?"
      ]
    },
    {
      "cell_type": "code",
      "execution_count": null,
      "metadata": {
        "id": "7d88cneOd5hQ"
      },
      "outputs": [],
      "source": [
        "import matplotlib.pyplot as plt\n",
        "\n",
        "sepal_length = X[:, 0]\n",
        "sepal_width = X[:, 1]\n",
        "plt.scatter(sepal_length, sepal_width)\n",
        "plt.xlabel(\"Sepal Length (cm)\")\n",
        "plt.ylabel(\"Sepal Width (cm)\")"
      ]
    },
    {
      "attachments": {},
      "cell_type": "markdown",
      "metadata": {
        "id": "i2jVJGlmj4tK"
      },
      "source": [
        "So far we've just looked at the features, but it can also be useful to compare with the targets the model will learn to predict. In the space below, try replacing some of the variables plotted above with the target vector (y) to see if the patterns you found can distinguish between flower types.\n",
        "\n",
        "_Note_: The target vector contains integers, but you can refer back to the target names to see what types of flowers they correspond to."
      ]
    },
    {
      "cell_type": "code",
      "execution_count": null,
      "metadata": {
        "id": "TpECeiWKhTB7"
      },
      "outputs": [],
      "source": [
        "raise NotImplementedError(\"Add your code here!\")"
      ]
    },
    {
      "attachments": {},
      "cell_type": "markdown",
      "metadata": {
        "id": "CLYvayk0kobQ"
      },
      "source": [
        "# Creating a Dataset\n",
        "\n",
        "To check the accuracy of our model, we can split the dataset into two pieces: a training set and a testing set. Use the training set to train the model and testing set to test the model. After that, we can evaluate how well our model did."
      ]
    },
    {
      "cell_type": "code",
      "execution_count": null,
      "metadata": {
        "id": "ya45BMXLlFMG"
      },
      "outputs": [],
      "source": [
        "from sklearn.datasets import load_iris\n",
        "from sklearn.model_selection import train_test_split\n",
        "\n",
        "iris = load_iris()\n",
        "\n",
        "X = iris.data\n",
        "y = iris.target\n",
        "\n",
        "X_train, X_test, y_train, y_test = train_test_split(\n",
        "   X, \n",
        "   y, \n",
        "   test_size = 0.3, # fraction of the data for testing\n",
        "   random_state = 1, # ensures we get the same train and test sets every time\n",
        ")\n",
        "\n",
        "print(\"Train features:\", X_train.shape)\n",
        "print(\"Test features:\", X_test.shape)\n",
        "\n",
        "print(\"Train targets:\", y_train.shape)\n",
        "print(\"Test targets:\", y_test.shape)"
      ]
    },
    {
      "attachments": {},
      "cell_type": "markdown",
      "metadata": {
        "id": "Ip8KNmkgmcBT"
      },
      "source": [
        "# Building a KNN Classifier\n",
        "\n",
        "The first model we'll train is a [k-nearest neighbors](https://en.wikipedia.org/wiki/K-nearest_neighbors_algorithm) (KNN) classifier. This model classifies new data by finding the closest k data points in the training data and returning the most common target label among the set."
      ]
    },
    {
      "cell_type": "code",
      "execution_count": null,
      "metadata": {
        "id": "1T2wDUAIlX-X"
      },
      "outputs": [],
      "source": [
        "from sklearn.neighbors import KNeighborsClassifier\n",
        "from sklearn import metrics\n",
        "\n",
        "# create the classifier, change k to control how many neighbors are used\n",
        "# k is n_neighbors\n",
        "classifier = KNeighborsClassifier(n_neighbors = 3)\n",
        "\n",
        "# fit the model to the training data\n",
        "classifier.fit(X_train, y_train)\n",
        "\n",
        "# predict the targets for the test data\n",
        "y_pred = classifier.predict(X_test)\n",
        "\n",
        "# measure the accuracy of the model\n",
        "accuracy = metrics.accuracy_score(y_test, y_pred)\n",
        "print(\"Accuracy:\", accuracy)"
      ]
    },
    {
      "attachments": {},
      "cell_type": "markdown",
      "metadata": {
        "id": "NNIDh5sjoTm5"
      },
      "source": [
        "The parameters we choose for our model have a big impact on performance. In the space below, try some alternative values for k. \n",
        "\n",
        "How many neighbors are best for classifying the flower types?\n",
        "\n",
        "What happens as you increase the number of neighbors to a very high value?"
      ]
    },
    {
      "cell_type": "code",
      "execution_count": null,
      "metadata": {
        "id": "QC0tWnCon7mn"
      },
      "outputs": [],
      "source": [
        "raise NotImplementedError(\"Add your code here!\")\n",
        "\n",
        "\n",
        "# Your answer here"
      ]
    },
    {
      "attachments": {},
      "cell_type": "markdown",
      "metadata": {
        "id": "ui0_N_X9pTwx"
      },
      "source": [
        "# Training a Decision Tree\n",
        "\n",
        "Decision trees are a type of model that learns a hierarchy of simple decision rules for classifying data points. The deeper the decision tree, the more complex the rules become.\n",
        "\n",
        "We can train a decision tree using the same technique as above for the KNN."
      ]
    },
    {
      "cell_type": "code",
      "execution_count": null,
      "metadata": {
        "id": "YBBnG_CkpRrN"
      },
      "outputs": [],
      "source": [
        "from sklearn.tree import DecisionTreeClassifier\n",
        "from sklearn import metrics\n",
        "\n",
        "# create the classifier, change max_depth to control how deep the tree is\n",
        "classifier = DecisionTreeClassifier(max_depth = 3)\n",
        "\n",
        "# fit the model to the training data\n",
        "classifier.fit(X_train, y_train)\n",
        "\n",
        "# predict the targets for the test data\n",
        "y_pred = classifier.predict(X_test)\n",
        "\n",
        "# measure the accuracy of the model\n",
        "accuracy = metrics.accuracy_score(y_test, y_pred)\n",
        "print(\"Accuracy:\", accuracy)"
      ]
    },
    {
      "attachments": {},
      "cell_type": "markdown",
      "metadata": {
        "id": "Q6U5AE86rZb4"
      },
      "source": [
        "Just like before, the parameters we choose for our model have a big impact on performance. In the space below, try some alternative values for max_depth. \n",
        "\n",
        "What is the model doing when the depth is 1?\n",
        "\n",
        "How deep of a tree is best for classifying the flower types?"
      ]
    },
    {
      "cell_type": "code",
      "execution_count": null,
      "metadata": {
        "id": "FIo5cM7emNha"
      },
      "outputs": [],
      "source": [
        "raise NotImplementedError(\"Add your code here!\")\n",
        "\n",
        "\n",
        "# Your answer here"
      ]
    },
    {
      "attachments": {},
      "cell_type": "markdown",
      "metadata": {
        "id": "wVI89h1Mr3x2"
      },
      "source": [
        "# Training a Neural Network\n",
        "\n",
        "Multi-layer perceptrons (MLPs) are a type of neural network that uses multiple hidden layers to learn complex non-linear relationship between features to predict target labels. MLPs are trained using the [backpropagation](https://en.wikipedia.org/wiki/Backpropagation) algorithm.\n",
        "\n",
        "We can build an MLPClassifier with very minimal changes to the KNN Classifier or Decision Tree code above. Follow the documentation from Sci-kit Learn to adapt the code above and train an MLP for the iris dataset.\n",
        "\n",
        "https://scikit-learn.org/stable/modules/generated/sklearn.neural_network.MLPClassifier.html"
      ]
    },
    {
      "cell_type": "code",
      "execution_count": null,
      "metadata": {
        "id": "WUzhmvXWtXvf"
      },
      "outputs": [],
      "source": [
        "raise NotImplementedError(\"Add your code here!\")"
      ]
    },
    {
      "attachments": {},
      "cell_type": "markdown",
      "metadata": {
        "id": "N86jsCVqtYdr"
      },
      "source": [
        "How does the MLP performance compare to previous methods you tried?\n",
        "\n",
        "Consider the patterns you saw in the data at the beginning of this notebook. Why might some methods be a better fit for the iris dataset?"
      ]
    },
    {
      "cell_type": "code",
      "execution_count": null,
      "metadata": {},
      "outputs": [],
      "source": [
        "# Your answer here"
      ]
    },
    {
      "attachments": {},
      "cell_type": "markdown",
      "metadata": {
        "id": "tGYc0x06pnUd"
      },
      "source": [
        "# Try on Other Datasets\n",
        "\n",
        "The iris dataset is a relatively small and simple dataset without many features. Sci-kit Learn provides several other datasets with unique characteristics. Try loading a few more datasets from the website below and test a few classifiers to see which perform well.\n",
        "\n",
        "https://scikit-learn.org/stable/datasets/toy_dataset.html"
      ]
    },
    {
      "cell_type": "code",
      "execution_count": null,
      "metadata": {
        "id": "oa0Jom67qM6i"
      },
      "outputs": [],
      "source": [
        "raise NotImplementedError(\"Add your code here!\")"
      ]
    },
    {
      "attachments": {},
      "cell_type": "markdown",
      "metadata": {
        "id": "2kd2sqQhu6wo"
      },
      "source": [
        "Were any datasets particularly challenging for the models you've tested?"
      ]
    },
    {
      "cell_type": "code",
      "execution_count": null,
      "metadata": {},
      "outputs": [],
      "source": [
        "# Your answer here"
      ]
    },
    {
      "attachments": {},
      "cell_type": "markdown",
      "metadata": {
        "id": "8PvVjv-QuKeW"
      },
      "source": [
        "# Try Other Classifiers\n",
        "\n",
        "Sci-kit Learn provides a broad set of interchangeable classifiers that can be applied to the datasets you've tested. In the space below, try a few more classifiers on any datasets that seemed challenging for the classifiers you've tried so far.\n",
        "\n",
        "https://scikit-learn.org/stable/supervised_learning.html"
      ]
    },
    {
      "attachments": {},
      "cell_type": "markdown",
      "metadata": {
        "id": "rHFAF3MOvLXE"
      },
      "source": [
        "Support vector machines (SVMs) are a powerful class of models for clasifying data. The code below implements an SVM using Sci-kit learn. "
      ]
    },
    {
      "cell_type": "code",
      "execution_count": null,
      "metadata": {
        "id": "Uqo4AGupus_7"
      },
      "outputs": [],
      "source": [
        "from sklearn.svm import SVC\n",
        "from sklearn import metrics\n",
        "\n",
        "# create the classifier\n",
        "classifier = SVC()\n",
        "\n",
        "# fit the model to the training data\n",
        "classifier.fit(X_train, y_train)\n",
        "\n",
        "# predict the targets for the test data\n",
        "y_pred = classifier.predict(X_test)\n",
        "\n",
        "# measure the accuracy of the model\n",
        "accuracy = metrics.accuracy_score(y_test, y_pred)\n",
        "print(\"Accuracy:\", accuracy)"
      ]
    }
  ],
  "metadata": {
    "colab": {
      "provenance": []
    },
    "kernelspec": {
      "display_name": "Python 3",
      "name": "python3"
    },
    "language_info": {
      "name": "python"
    }
  },
  "nbformat": 4,
  "nbformat_minor": 0
}
