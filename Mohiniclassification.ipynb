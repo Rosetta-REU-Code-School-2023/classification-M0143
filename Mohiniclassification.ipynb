{
  "cells": [
    {
      "cell_type": "markdown",
      "source": [
        "**MOHINI KHEDEKAR**"
      ],
      "metadata": {
        "id": "zSIz0kPgP-x4"
      }
    },
    {
      "cell_type": "markdown",
      "metadata": {
        "id": "Hc3i1WYpePZt"
      },
      "source": [
        "# Iris Dataset\n",
        "\n",
        "![image.png](https://storage.googleapis.com/kaggle-datasets-images/19/19/default-backgrounds/dataset-cover.jpg)\n",
        "\n",
        "The Iris dataset was used in R.A. Fisher's classic 1936 paper, The Use of Multiple Measurements in Taxonomic Problems.\n",
        "\n",
        "It includes three iris species with 50 samples each as well as the following properties about each flower:\n",
        "- Sepal length (cm)\n",
        "- Sepal width (cm)\n",
        "- Petal length (cm)\n",
        "- Petal width (cm)\n",
        "\n"
      ]
    },
    {
      "cell_type": "markdown",
      "source": [],
      "metadata": {
        "id": "gTS0NM90P9a7"
      }
    },
    {
      "cell_type": "markdown",
      "metadata": {
        "id": "OxT1b9picWds"
      },
      "source": [
        "# Dataset Loading\n",
        "A collection of data is called dataset. We need datasets to train machine learning models. Datasets have the two following components:\n",
        "\n",
        "## Features\n",
        "The variables of data are called its features. These are the inputs to a machine learning model.\n",
        "\n",
        "**Feature names**: List of all the names of the features.\n",
        "\n",
        "**Feature matrix**: Collection of features, typically in a matrix or vector format if there is more than one feature.\n",
        "\n",
        "## Label\n",
        "The output variables that depends upon the feature variables. These are what the machine learning model seeks to predict, sometimes called the target.\n",
        "\n",
        "**Target names**: List of possible values that the model can output\n",
        "\n",
        "**Target vector**: True target value for each item in the dataset."
      ]
    },
    {
      "cell_type": "code",
      "execution_count": null,
      "metadata": {
        "id": "2ZaWbOrLb9ue",
        "colab": {
          "base_uri": "https://localhost:8080/"
        },
        "outputId": "9fc1de73-7d48-4057-baca-f56322a882bd"
      },
      "outputs": [
        {
          "output_type": "stream",
          "name": "stdout",
          "text": [
            "Feature names: ['sepal length (cm)', 'sepal width (cm)', 'petal length (cm)', 'petal width (cm)']\n",
            "Target names: ['setosa' 'versicolor' 'virginica']\n"
          ]
        }
      ],
      "source": [
        "# Remember feature name is the name of the data used to make a prediction about a variable (target). Feature matrix and target vector store information about them. \n",
        "# Dataset loading code snippet:\n",
        "\n",
        "from sklearn.datasets import load_iris\n",
        "\n",
        "iris = load_iris() # load the iris dataset\n",
        "X = iris.data # feature matrix\n",
        "y = iris.target # target vector\n",
        "feature_names = iris.feature_names\n",
        "target_names = iris.target_names\n",
        "\n",
        "print(\"Feature names:\", feature_names)\n",
        "print(\"Target names:\", target_names)"
      ]
    },
    {
      "cell_type": "markdown",
      "metadata": {
        "id": "ug0ldZYqffgt"
      },
      "source": [
        "# Data investigation\n",
        "\n",
        "The iris dataset contains 150 data point, each with a feature vector containing four measurements. Each data point corresponds to a particular type of flower. \n",
        "\n",
        "In the following exercises, we will familiarize ourselves with the format of the dataset."
      ]
    },
    {
      "cell_type": "markdown",
      "metadata": {
        "id": "NiXaXI37gjOh"
      },
      "source": [
        "## Data layout\n",
        "\n",
        "The feature matrix X contains 150 data points with 4 features each.\n",
        "\n",
        "In the space below, determine the layout of the data in X. How are the data points organized? Do the feature values make sense?"
      ]
    },
    {
      "cell_type": "markdown",
      "source": [
        "The data points are organized in a matrix. There are 4 columns corresponding to the 4 different features (sepal length, sepal width, petal length, petal width) and 150 rows corresponding to 150 data points/flowers. "
      ],
      "metadata": {
        "id": "5RiT_4L6TbEZ"
      }
    },
    {
      "cell_type": "code",
      "execution_count": null,
      "metadata": {
        "id": "UPk30LQgfe3C",
        "colab": {
          "base_uri": "https://localhost:8080/"
        },
        "outputId": "480a601a-b817-43eb-ad0b-5f78413d8f57"
      },
      "outputs": [
        {
          "output_type": "stream",
          "name": "stdout",
          "text": [
            "[[5.1 3.5 1.4 0.2]\n",
            " [4.9 3.  1.4 0.2]\n",
            " [4.7 3.2 1.3 0.2]\n",
            " [4.6 3.1 1.5 0.2]\n",
            " [5.  3.6 1.4 0.2]\n",
            " [5.4 3.9 1.7 0.4]\n",
            " [4.6 3.4 1.4 0.3]\n",
            " [5.  3.4 1.5 0.2]\n",
            " [4.4 2.9 1.4 0.2]\n",
            " [4.9 3.1 1.5 0.1]\n",
            " [5.4 3.7 1.5 0.2]\n",
            " [4.8 3.4 1.6 0.2]\n",
            " [4.8 3.  1.4 0.1]\n",
            " [4.3 3.  1.1 0.1]\n",
            " [5.8 4.  1.2 0.2]\n",
            " [5.7 4.4 1.5 0.4]\n",
            " [5.4 3.9 1.3 0.4]\n",
            " [5.1 3.5 1.4 0.3]\n",
            " [5.7 3.8 1.7 0.3]\n",
            " [5.1 3.8 1.5 0.3]\n",
            " [5.4 3.4 1.7 0.2]\n",
            " [5.1 3.7 1.5 0.4]\n",
            " [4.6 3.6 1.  0.2]\n",
            " [5.1 3.3 1.7 0.5]\n",
            " [4.8 3.4 1.9 0.2]\n",
            " [5.  3.  1.6 0.2]\n",
            " [5.  3.4 1.6 0.4]\n",
            " [5.2 3.5 1.5 0.2]\n",
            " [5.2 3.4 1.4 0.2]\n",
            " [4.7 3.2 1.6 0.2]\n",
            " [4.8 3.1 1.6 0.2]\n",
            " [5.4 3.4 1.5 0.4]\n",
            " [5.2 4.1 1.5 0.1]\n",
            " [5.5 4.2 1.4 0.2]\n",
            " [4.9 3.1 1.5 0.2]\n",
            " [5.  3.2 1.2 0.2]\n",
            " [5.5 3.5 1.3 0.2]\n",
            " [4.9 3.6 1.4 0.1]\n",
            " [4.4 3.  1.3 0.2]\n",
            " [5.1 3.4 1.5 0.2]\n",
            " [5.  3.5 1.3 0.3]\n",
            " [4.5 2.3 1.3 0.3]\n",
            " [4.4 3.2 1.3 0.2]\n",
            " [5.  3.5 1.6 0.6]\n",
            " [5.1 3.8 1.9 0.4]\n",
            " [4.8 3.  1.4 0.3]\n",
            " [5.1 3.8 1.6 0.2]\n",
            " [4.6 3.2 1.4 0.2]\n",
            " [5.3 3.7 1.5 0.2]\n",
            " [5.  3.3 1.4 0.2]\n",
            " [7.  3.2 4.7 1.4]\n",
            " [6.4 3.2 4.5 1.5]\n",
            " [6.9 3.1 4.9 1.5]\n",
            " [5.5 2.3 4.  1.3]\n",
            " [6.5 2.8 4.6 1.5]\n",
            " [5.7 2.8 4.5 1.3]\n",
            " [6.3 3.3 4.7 1.6]\n",
            " [4.9 2.4 3.3 1. ]\n",
            " [6.6 2.9 4.6 1.3]\n",
            " [5.2 2.7 3.9 1.4]\n",
            " [5.  2.  3.5 1. ]\n",
            " [5.9 3.  4.2 1.5]\n",
            " [6.  2.2 4.  1. ]\n",
            " [6.1 2.9 4.7 1.4]\n",
            " [5.6 2.9 3.6 1.3]\n",
            " [6.7 3.1 4.4 1.4]\n",
            " [5.6 3.  4.5 1.5]\n",
            " [5.8 2.7 4.1 1. ]\n",
            " [6.2 2.2 4.5 1.5]\n",
            " [5.6 2.5 3.9 1.1]\n",
            " [5.9 3.2 4.8 1.8]\n",
            " [6.1 2.8 4.  1.3]\n",
            " [6.3 2.5 4.9 1.5]\n",
            " [6.1 2.8 4.7 1.2]\n",
            " [6.4 2.9 4.3 1.3]\n",
            " [6.6 3.  4.4 1.4]\n",
            " [6.8 2.8 4.8 1.4]\n",
            " [6.7 3.  5.  1.7]\n",
            " [6.  2.9 4.5 1.5]\n",
            " [5.7 2.6 3.5 1. ]\n",
            " [5.5 2.4 3.8 1.1]\n",
            " [5.5 2.4 3.7 1. ]\n",
            " [5.8 2.7 3.9 1.2]\n",
            " [6.  2.7 5.1 1.6]\n",
            " [5.4 3.  4.5 1.5]\n",
            " [6.  3.4 4.5 1.6]\n",
            " [6.7 3.1 4.7 1.5]\n",
            " [6.3 2.3 4.4 1.3]\n",
            " [5.6 3.  4.1 1.3]\n",
            " [5.5 2.5 4.  1.3]\n",
            " [5.5 2.6 4.4 1.2]\n",
            " [6.1 3.  4.6 1.4]\n",
            " [5.8 2.6 4.  1.2]\n",
            " [5.  2.3 3.3 1. ]\n",
            " [5.6 2.7 4.2 1.3]\n",
            " [5.7 3.  4.2 1.2]\n",
            " [5.7 2.9 4.2 1.3]\n",
            " [6.2 2.9 4.3 1.3]\n",
            " [5.1 2.5 3.  1.1]\n",
            " [5.7 2.8 4.1 1.3]\n",
            " [6.3 3.3 6.  2.5]\n",
            " [5.8 2.7 5.1 1.9]\n",
            " [7.1 3.  5.9 2.1]\n",
            " [6.3 2.9 5.6 1.8]\n",
            " [6.5 3.  5.8 2.2]\n",
            " [7.6 3.  6.6 2.1]\n",
            " [4.9 2.5 4.5 1.7]\n",
            " [7.3 2.9 6.3 1.8]\n",
            " [6.7 2.5 5.8 1.8]\n",
            " [7.2 3.6 6.1 2.5]\n",
            " [6.5 3.2 5.1 2. ]\n",
            " [6.4 2.7 5.3 1.9]\n",
            " [6.8 3.  5.5 2.1]\n",
            " [5.7 2.5 5.  2. ]\n",
            " [5.8 2.8 5.1 2.4]\n",
            " [6.4 3.2 5.3 2.3]\n",
            " [6.5 3.  5.5 1.8]\n",
            " [7.7 3.8 6.7 2.2]\n",
            " [7.7 2.6 6.9 2.3]\n",
            " [6.  2.2 5.  1.5]\n",
            " [6.9 3.2 5.7 2.3]\n",
            " [5.6 2.8 4.9 2. ]\n",
            " [7.7 2.8 6.7 2. ]\n",
            " [6.3 2.7 4.9 1.8]\n",
            " [6.7 3.3 5.7 2.1]\n",
            " [7.2 3.2 6.  1.8]\n",
            " [6.2 2.8 4.8 1.8]\n",
            " [6.1 3.  4.9 1.8]\n",
            " [6.4 2.8 5.6 2.1]\n",
            " [7.2 3.  5.8 1.6]\n",
            " [7.4 2.8 6.1 1.9]\n",
            " [7.9 3.8 6.4 2. ]\n",
            " [6.4 2.8 5.6 2.2]\n",
            " [6.3 2.8 5.1 1.5]\n",
            " [6.1 2.6 5.6 1.4]\n",
            " [7.7 3.  6.1 2.3]\n",
            " [6.3 3.4 5.6 2.4]\n",
            " [6.4 3.1 5.5 1.8]\n",
            " [6.  3.  4.8 1.8]\n",
            " [6.9 3.1 5.4 2.1]\n",
            " [6.7 3.1 5.6 2.4]\n",
            " [6.9 3.1 5.1 2.3]\n",
            " [5.8 2.7 5.1 1.9]\n",
            " [6.8 3.2 5.9 2.3]\n",
            " [6.7 3.3 5.7 2.5]\n",
            " [6.7 3.  5.2 2.3]\n",
            " [6.3 2.5 5.  1.9]\n",
            " [6.5 3.  5.2 2. ]\n",
            " [6.2 3.4 5.4 2.3]\n",
            " [5.9 3.  5.1 1.8]]\n"
          ]
        }
      ],
      "source": [
        "print(X)"
      ]
    },
    {
      "cell_type": "markdown",
      "metadata": {
        "id": "_VTMma5zggrj"
      },
      "source": [
        "## Data visualization\n",
        "\n",
        "Before buiding a machine learning model, it is useful to visualize the feature and target data to understand the task at hand.\n",
        "\n",
        "We can look for patterns within individual features or dependencies between features. These patterns will be useful for the model in learning to predict the target labels."
      ]
    },
    {
      "cell_type": "code",
      "execution_count": null,
      "metadata": {
        "id": "oyOKYzx_cBD5",
        "colab": {
          "base_uri": "https://localhost:8080/",
          "height": 467
        },
        "outputId": "ef03f4d0-75eb-4042-b195-2efe5c3a87d6"
      },
      "outputs": [
        {
          "output_type": "execute_result",
          "data": {
            "text/plain": [
              "Text(0, 0.5, 'Count')"
            ]
          },
          "metadata": {},
          "execution_count": 2
        },
        {
          "output_type": "display_data",
          "data": {
            "text/plain": [
              "<Figure size 640x480 with 1 Axes>"
            ],
            "image/png": "[encoded data removed]"
          },
          "metadata": {}
        }
      ],
      "source": [
        "#histogram for sepal length \n",
        "import matplotlib.pyplot as plt\n",
        "\n",
        "sepal_length = X[:, 0]\n",
        "plt.hist(sepal_length)\n",
        "plt.xlabel(\"Sepal Length (cm)\")\n",
        "plt.ylabel(\"Count\")"
      ]
    },
    {
      "cell_type": "markdown",
      "source": [
        "The number of flowers with a higher sepal length is low. The histogram almost resembles a normal distribution. "
      ],
      "metadata": {
        "id": "mtU2LH6kUGVg"
      }
    },
    {
      "cell_type": "markdown",
      "metadata": {
        "id": "7s-Vx_UUhoV1"
      },
      "source": [
        "In the space below, create histograms for the other features. Do any patterns emerge that may be useful for distinguishing between different types of flowers?"
      ]
    },
    {
      "cell_type": "code",
      "execution_count": null,
      "metadata": {
        "id": "vlXRtydRhnWn",
        "colab": {
          "base_uri": "https://localhost:8080/",
          "height": 467
        },
        "outputId": "7b22247c-524f-4a12-ca6e-c644da9d2555"
      },
      "outputs": [
        {
          "output_type": "execute_result",
          "data": {
            "text/plain": [
              "Text(0, 0.5, 'Count')"
            ]
          },
          "metadata": {},
          "execution_count": 4
        },
        {
          "output_type": "display_data",
          "data": {
            "text/plain": [
              "<Figure size 640x480 with 1 Axes>"
            ],
            "image/png": "[encoded data removed]"
          },
          "metadata": {}
        }
      ],
      "source": [
        "#note that sepal width has an index of 1\n",
        "sepal_width = X[:, 1]\n",
        "plt.hist(sepal_width)\n",
        "plt.xlabel(\"Sepal = Width (cm)\")\n",
        "plt.ylabel(\"Count\")"
      ]
    },
    {
      "cell_type": "markdown",
      "source": [
        "Most of the flowers have a sepal lenght of around 3 (which can be considered a median). "
      ],
      "metadata": {
        "id": "8sqcDWo8UUej"
      }
    },
    {
      "cell_type": "code",
      "source": [
        "#histogram for petal length\n",
        "petal_length = X[:, 2]\n",
        "plt.hist(petal_length)\n",
        "plt.xlabel(\"Petal = Length (cm)\")\n",
        "plt.ylabel(\"Count\")"
      ],
      "metadata": {
        "colab": {
          "base_uri": "https://localhost:8080/",
          "height": 467
        },
        "id": "MZika9WcSQJz",
        "outputId": "14bc9ed0-a045-4631-c692-3bb8e122c171"
      },
      "execution_count": null,
      "outputs": [
        {
          "output_type": "execute_result",
          "data": {
            "text/plain": [
              "Text(0, 0.5, 'Count')"
            ]
          },
          "metadata": {},
          "execution_count": 5
        },
        {
          "output_type": "display_data",
          "data": {
            "text/plain": [
              "<Figure size 640x480 with 1 Axes>"
            ],
            "image/png": "[encoded data removed]"
          },
          "metadata": {}
        }
      ]
    },
    {
      "cell_type": "code",
      "source": [
        "#histogram for petal width\n",
        "petal_width = X[:, 3]\n",
        "plt.hist(petal_width)\n",
        "plt.xlabel(\"Petal = Width (cm)\")\n",
        "plt.ylabel(\"Count\")"
      ],
      "metadata": {
        "colab": {
          "base_uri": "https://localhost:8080/",
          "height": 467
        },
        "id": "KI9arYCISgVr",
        "outputId": "59c23067-782c-47e1-81db-d4fe48d4b145"
      },
      "execution_count": null,
      "outputs": [
        {
          "output_type": "execute_result",
          "data": {
            "text/plain": [
              "Text(0, 0.5, 'Count')"
            ]
          },
          "metadata": {},
          "execution_count": 6
        },
        {
          "output_type": "display_data",
          "data": {
            "text/plain": [
              "<Figure size 640x480 with 1 Axes>"
            ],
            "image/png": "[encoded data removed]"
          },
          "metadata": {}
        }
      ]
    },
    {
      "cell_type": "markdown",
      "metadata": {
        "id": "tXYOtAvAisV6"
      },
      "source": [
        "Machine learning models can also learn from combinations of features. In the space below, try plotting scatter plots of pairs of features. Do any patterns emerge that may be useful for distinguishing between different types of flowers?"
      ]
    },
    {
      "cell_type": "code",
      "execution_count": null,
      "metadata": {
        "id": "7d88cneOd5hQ",
        "colab": {
          "base_uri": "https://localhost:8080/",
          "height": 470
        },
        "outputId": "d83fbcf1-fe9d-487d-8404-6462c626bd78"
      },
      "outputs": [
        {
          "output_type": "execute_result",
          "data": {
            "text/plain": [
              "Text(0, 0.5, 'Sepal Width (cm)')"
            ]
          },
          "metadata": {},
          "execution_count": 10
        },
        {
          "output_type": "display_data",
          "data": {
            "text/plain": [
              "<Figure size 640x480 with 1 Axes>"
            ],
            "image/png": "[encoded data removed]"
          },
          "metadata": {}
        }
      ],
      "source": [
        "import matplotlib.pyplot as plt\n",
        "\n",
        "sepal_length = X[:, 0]\n",
        "sepal_width = X[:, 1]\n",
        "plt.scatter(sepal_length, sepal_width)\n",
        "plt.xlabel(\"Sepal Length (cm)\")\n",
        "plt.ylabel(\"Sepal Width (cm)\")"
      ]
    },
    {
      "cell_type": "code",
      "source": [
        "import matplotlib.pyplot as plt\n",
        "\n",
        "sepal_length = X[:, 0]\n",
        "y = y\n",
        "plt.scatter(sepal_length, y)\n",
        "plt.xlabel(\"Sepal Length (cm)\")\n",
        "plt.ylabel(\"flower type \")"
      ],
      "metadata": {
        "colab": {
          "base_uri": "https://localhost:8080/",
          "height": 467
        },
        "id": "S4kY8wWEgavt",
        "outputId": "2b513e6e-ef16-477b-b42b-46926c3275cb"
      },
      "execution_count": 45,
      "outputs": [
        {
          "output_type": "execute_result",
          "data": {
            "text/plain": [
              "Text(0, 0.5, 'flower type ')"
            ]
          },
          "metadata": {},
          "execution_count": 45
        },
        {
          "output_type": "display_data",
          "data": {
            "text/plain": [
              "<Figure size 640x480 with 1 Axes>"
            ],
            "image/png": "[encoded data removed]"
          },
          "metadata": {}
        }
      ]
    },
    {
      "cell_type": "markdown",
      "source": [
        "There does not seem to be any association between sepal width and sepal length. "
      ],
      "metadata": {
        "id": "iNtdDfAAUrC9"
      }
    },
    {
      "cell_type": "markdown",
      "metadata": {
        "id": "i2jVJGlmj4tK"
      },
      "source": [
        "So far we've just looked at the features, but it can also be useful to compare with the targets the model will learn to predict. In the space below, try replacing some of the variables plotted above with the target vector (y) to see if the patterns you found can distinguish between flower types.\n",
        "\n",
        "_Note_: The target vector contains integers, but you can refer back to the target names to see what types of flowers they correspond to."
      ]
    },
    {
      "cell_type": "code",
      "source": [
        "import matplotlib.pyplot as plt\n",
        "\n",
        "sepal_width = X[:, 1]\n",
        "y = y\n",
        "plt.scatter(sepal_width, y)\n",
        "plt.xlabel(\"Sepal Width (cm)\")\n",
        "plt.ylabel(\"flower type \")\n"
      ],
      "metadata": {
        "colab": {
          "base_uri": "https://localhost:8080/",
          "height": 467
        },
        "id": "rv_KYc2lc-Lz",
        "outputId": "1edc3e28-0f3b-4dbc-8710-e883ee6a3342"
      },
      "execution_count": 46,
      "outputs": [
        {
          "output_type": "execute_result",
          "data": {
            "text/plain": [
              "Text(0, 0.5, 'flower type ')"
            ]
          },
          "metadata": {},
          "execution_count": 46
        },
        {
          "output_type": "display_data",
          "data": {
            "text/plain": [
              "<Figure size 640x480 with 1 Axes>"
            ],
            "image/png": "[encoded data removed]"
          },
          "metadata": {}
        }
      ]
    },
    {
      "cell_type": "code",
      "source": [
        "import matplotlib.pyplot as plt\n",
        "\n",
        "petal_length = X[:, 2]\n",
        "y = y\n",
        "plt.scatter(petal_length, y)\n",
        "plt.xlabel(\"Petal Length (cm)\")\n",
        "plt.ylabel(\"flower type \")"
      ],
      "metadata": {
        "colab": {
          "base_uri": "https://localhost:8080/",
          "height": 467
        },
        "id": "5Lv7t4eTiY7i",
        "outputId": "dfc59b55-edd4-4360-a212-b5749a97ac12"
      },
      "execution_count": 47,
      "outputs": [
        {
          "output_type": "execute_result",
          "data": {
            "text/plain": [
              "Text(0, 0.5, 'flower type ')"
            ]
          },
          "metadata": {},
          "execution_count": 47
        },
        {
          "output_type": "display_data",
          "data": {
            "text/plain": [
              "<Figure size 640x480 with 1 Axes>"
            ],
            "image/png": "[encoded data removed]"
          },
          "metadata": {}
        }
      ]
    },
    {
      "cell_type": "markdown",
      "source": [
        "Using petal length can be the best way to distinguish between the flower type since there is more of a difference between the petal lenghts for each flower types. For instance, flower type 1 has a petal length in the range of 1 and 2 cm and flower type 2 in the range of 3 and 5. "
      ],
      "metadata": {
        "id": "kv-9aUvgnxSE"
      }
    },
    {
      "cell_type": "code",
      "source": [
        "import matplotlib.pyplot as plt\n",
        "\n",
        "petal_width = X[:, 3]\n",
        "y = y\n",
        "plt.scatter(petal_width, y)\n",
        "plt.xlabel(\"Petal Width (cm)\")\n",
        "plt.ylabel(\"flower type \")"
      ],
      "metadata": {
        "colab": {
          "base_uri": "https://localhost:8080/",
          "height": 467
        },
        "id": "OLlcpQl0iblo",
        "outputId": "1d1c5fa4-02ea-48f5-d6d5-b98c76b4a30f"
      },
      "execution_count": 48,
      "outputs": [
        {
          "output_type": "execute_result",
          "data": {
            "text/plain": [
              "Text(0, 0.5, 'flower type ')"
            ]
          },
          "metadata": {},
          "execution_count": 48
        },
        {
          "output_type": "display_data",
          "data": {
            "text/plain": [
              "<Figure size 640x480 with 1 Axes>"
            ],
            "image/png": "[encoded data removed]"
          },
          "metadata": {}
        }
      ]
    },
    {
      "cell_type": "markdown",
      "metadata": {
        "id": "CLYvayk0kobQ"
      },
      "source": [
        "# Creating a Dataset\n",
        "\n",
        "To check the accuracy of our model, we can split the dataset into two pieces: a training set and a testing set. Use the training set to train the model and testing set to test the model. After that, we can evaluate how well our model did."
      ]
    },
    {
      "cell_type": "code",
      "execution_count": null,
      "metadata": {
        "id": "ya45BMXLlFMG",
        "colab": {
          "base_uri": "https://localhost:8080/"
        },
        "outputId": "f57f5700-5c92-451f-fb3f-ab51da7ea84c"
      },
      "outputs": [
        {
          "output_type": "stream",
          "name": "stdout",
          "text": [
            "Train features: (105, 4)\n",
            "Test features: (45, 4)\n",
            "Train targets: (105,)\n",
            "Test targets: (45,)\n"
          ]
        }
      ],
      "source": [
        "from sklearn.datasets import load_iris\n",
        "from sklearn.model_selection import train_test_split\n",
        "\n",
        "iris = load_iris()\n",
        "\n",
        "X = iris.data\n",
        "y = iris.target\n",
        "\n",
        "X_train, X_test, y_train, y_test = train_test_split(\n",
        "   X, \n",
        "   y, \n",
        "   test_size = 0.3, # fraction of the data for testing\n",
        "   random_state = 1, # ensures we get the same train and test sets every time\n",
        ")\n",
        "\n",
        "print(\"Train features:\", X_train.shape)\n",
        "print(\"Test features:\", X_test.shape)\n",
        "\n",
        "print(\"Train targets:\", y_train.shape)\n",
        "print(\"Test targets:\", y_test.shape)"
      ]
    },
    {
      "cell_type": "markdown",
      "metadata": {
        "id": "Ip8KNmkgmcBT"
      },
      "source": [
        "# Building a KNN Classifier\n",
        "\n",
        "The first model we'll train is a [k-nearest neighbors](https://en.wikipedia.org/wiki/K-nearest_neighbors_algorithm) (KNN) classifier. This model classifies new data by finding the closest k data points in the training data and returning the most common target label among the set."
      ]
    },
    {
      "cell_type": "code",
      "execution_count": null,
      "metadata": {
        "id": "1T2wDUAIlX-X",
        "colab": {
          "base_uri": "https://localhost:8080/"
        },
        "outputId": "78836e88-40e4-49a7-fe75-21bce5eacfc1"
      },
      "outputs": [
        {
          "output_type": "stream",
          "name": "stdout",
          "text": [
            "Accuracy: 0.9777777777777777\n"
          ]
        }
      ],
      "source": [
        "from sklearn.neighbors import KNeighborsClassifier\n",
        "from sklearn import metrics\n",
        "\n",
        "# create the classifier, change k to control how many neighbors are used\n",
        "# k is n_neighbors\n",
        "classifier = KNeighborsClassifier(n_neighbors = 3)\n",
        "\n",
        "# fit the model to the training data\n",
        "classifier.fit(X_train, y_train)\n",
        "\n",
        "# predict the targets for the test data\n",
        "y_pred = classifier.predict(X_test)\n",
        "\n",
        "# measure the accuracy of the model\n",
        "accuracy = metrics.accuracy_score(y_test, y_pred)\n",
        "print(\"Accuracy:\", accuracy)"
      ]
    },
    {
      "cell_type": "markdown",
      "metadata": {
        "id": "NNIDh5sjoTm5"
      },
      "source": [
        "The parameters we choose for our model have a big impact on performance. In the space below, try some alternative values for k. \n",
        "\n",
        "How many neighbors are best for classifying the flower types?\n",
        "\n",
        "What happens as you increase the number of neighbors to a very high value?"
      ]
    },
    {
      "cell_type": "code",
      "execution_count": 36,
      "metadata": {
        "id": "QC0tWnCon7mn",
        "colab": {
          "base_uri": "https://localhost:8080/"
        },
        "outputId": "80bf231a-5ab0-4ff5-9391-d14e0fe4d586"
      },
      "outputs": [
        {
          "output_type": "stream",
          "name": "stdout",
          "text": [
            "Accuracy: 0.9833333333333333\n"
          ]
        }
      ],
      "source": [
        "#trying k = 5\n",
        "from sklearn.neighbors import KNeighborsClassifier\n",
        "from sklearn import metrics\n",
        "\n",
        "# create the classifier, change k to control how many neighbors are used\n",
        "# k is n_neighbors\n",
        "classifier = KNeighborsClassifier(n_neighbors = 5)\n",
        "\n",
        "# fit the model to the training data\n",
        "classifier.fit(X_train, y_train)\n",
        "\n",
        "# predict the targets for the test data\n",
        "y_pred = classifier.predict(X_test)\n",
        "\n",
        "# measure the accuracy of the model\n",
        "accuracy = metrics.accuracy_score(y_test, y_pred)\n",
        "print(\"Accuracy:\", accuracy)"
      ]
    },
    {
      "cell_type": "code",
      "source": [
        "# trying a really high k value\n",
        "from sklearn.neighbors import KNeighborsClassifier\n",
        "from sklearn import metrics\n",
        "\n",
        "# create the classifier, change k to control how many neighbors are used\n",
        "# k is n_neighbors\n",
        "classifier = KNeighborsClassifier(n_neighbors = 85)\n",
        "\n",
        "# fit the model to the training data\n",
        "classifier.fit(X_train, y_train)\n",
        "\n",
        "# predict the targets for the test data\n",
        "y_pred = classifier.predict(X_test)\n",
        "\n",
        "# measure the accuracy of the model\n",
        "accuracy = metrics.accuracy_score(y_test, y_pred)\n",
        "print(\"Accuracy:\", accuracy)"
      ],
      "metadata": {
        "colab": {
          "base_uri": "https://localhost:8080/"
        },
        "id": "46NvFEPUea2i",
        "outputId": "1509c230-ce40-47ab-f987-9b3780a567cf"
      },
      "execution_count": 39,
      "outputs": [
        {
          "output_type": "stream",
          "name": "stdout",
          "text": [
            "Accuracy: 0.7166666666666667\n"
          ]
        }
      ]
    },
    {
      "cell_type": "markdown",
      "source": [
        "The accuracy stopped increasing after k = 5 (flowers). However, k = 3 also makes sense since we have 3 target variable types (3 different flowers) and the accuracy is pretty good. It does not make any sense to drastically increase the value of k since the accuracy drops. "
      ],
      "metadata": {
        "id": "x5ZMpps2eUgP"
      }
    },
    {
      "cell_type": "markdown",
      "metadata": {
        "id": "ui0_N_X9pTwx"
      },
      "source": [
        "# Training a Decision Tree\n",
        "\n",
        "Decision trees are a type of model that learns a hierarchy of simple decision rules for classifying data points. The deeper the decision tree, the more complex the rules become.\n",
        "\n",
        "We can train a decision tree using the same technique as above for the KNN."
      ]
    },
    {
      "cell_type": "code",
      "execution_count": 40,
      "metadata": {
        "id": "YBBnG_CkpRrN",
        "colab": {
          "base_uri": "https://localhost:8080/"
        },
        "outputId": "98fd23d6-a0b4-43ba-a617-81bdaf411f18"
      },
      "outputs": [
        {
          "output_type": "stream",
          "name": "stdout",
          "text": [
            "Accuracy: 0.9666666666666667\n"
          ]
        }
      ],
      "source": [
        "from sklearn.tree import DecisionTreeClassifier\n",
        "from sklearn import metrics\n",
        "\n",
        "# create the classifier, change max_depth to control how deep the tree is\n",
        "classifier = DecisionTreeClassifier(max_depth = 3)\n",
        "\n",
        "# fit the model to the training data\n",
        "classifier.fit(X_train, y_train)\n",
        "\n",
        "# predict the targets for the test data\n",
        "y_pred = classifier.predict(X_test)\n",
        "\n",
        "# measure the accuracy of the model\n",
        "accuracy = metrics.accuracy_score(y_test, y_pred)\n",
        "print(\"Accuracy:\", accuracy)"
      ]
    },
    {
      "cell_type": "markdown",
      "metadata": {
        "id": "Q6U5AE86rZb4"
      },
      "source": [
        "Just like before, the parameters we choose for our model have a big impact on performance. In the space below, try some alternative values for max_depth. \n",
        "\n",
        "What is the model doing when the depth is 1?\n",
        "\n",
        "How deep of a tree is best for classifying the flower types?"
      ]
    },
    {
      "cell_type": "code",
      "execution_count": 41,
      "metadata": {
        "id": "FIo5cM7emNha",
        "colab": {
          "base_uri": "https://localhost:8080/"
        },
        "outputId": "d80c7153-d030-4936-ccc5-7a05dd19cef1"
      },
      "outputs": [
        {
          "output_type": "stream",
          "name": "stdout",
          "text": [
            "Accuracy: 0.65\n"
          ]
        }
      ],
      "source": [
        "from sklearn.tree import DecisionTreeClassifier\n",
        "from sklearn import metrics\n",
        "\n",
        "# create the classifier, change max_depth to control how deep the tree is\n",
        "classifier = DecisionTreeClassifier(max_depth = 1)\n",
        "\n",
        "# fit the model to the training data\n",
        "classifier.fit(X_train, y_train)\n",
        "\n",
        "# predict the targets for the test data\n",
        "y_pred = classifier.predict(X_test)\n",
        "\n",
        "# measure the accuracy of the model\n",
        "accuracy = metrics.accuracy_score(y_test, y_pred)\n",
        "print(\"Accuracy:\", accuracy)"
      ]
    },
    {
      "cell_type": "markdown",
      "source": [
        "When the max depth = 1, there is only one split in the decision tree and hence only one outcome. Hence the accuracy drops to 65%. "
      ],
      "metadata": {
        "id": "IIW707x9jaSQ"
      }
    },
    {
      "cell_type": "code",
      "source": [
        "#the max the max_depth can be is ?\n",
        "from sklearn.tree import DecisionTreeClassifier\n",
        "from sklearn import metrics\n",
        "\n",
        "# create the classifier, change max_depth to control how deep the tree is\n",
        "classifier = DecisionTreeClassifier(max_depth = 7)\n",
        "\n",
        "# fit the model to the training data\n",
        "classifier.fit(X_train, y_train)\n",
        "\n",
        "# predict the targets for the test data\n",
        "y_pred = classifier.predict(X_test)\n",
        "\n",
        "# measure the accuracy of the model\n",
        "accuracy = metrics.accuracy_score(y_test, y_pred)\n",
        "print(\"Accuracy:\", accuracy)"
      ],
      "metadata": {
        "colab": {
          "base_uri": "https://localhost:8080/"
        },
        "id": "ie4hkuv8fucc",
        "outputId": "916d8766-dfd3-48b6-c4b4-f555d5724ec5"
      },
      "execution_count": 51,
      "outputs": [
        {
          "output_type": "stream",
          "name": "stdout",
          "text": [
            "Accuracy: 0.9666666666666667\n"
          ]
        }
      ]
    },
    {
      "cell_type": "markdown",
      "source": [
        "the accuracy does not change for max_depth is 7. max_depth = 3 makes more sense since we have 3 outcomes (3 different flower types)"
      ],
      "metadata": {
        "id": "1hv4zKiMjwgS"
      }
    },
    {
      "cell_type": "markdown",
      "source": [
        "When the max_depth is 1, the accuracy of model decreases. "
      ],
      "metadata": {
        "id": "BxVltIsrfez1"
      }
    },
    {
      "cell_type": "markdown",
      "metadata": {
        "id": "wVI89h1Mr3x2"
      },
      "source": [
        "# Training a Neural Network\n",
        "\n",
        "Multi-layer perceptrons (MLPs) are a type of neural network that uses multiple hidden layers to learn complex non-linear relationship between features to predict target labels. MLPs are trained using the [backpropagation](https://en.wikipedia.org/wiki/Backpropagation) algorithm.\n",
        "\n",
        "We can build an MLPClassifier with very minimal changes to the KNN Classifier or Decision Tree code above. Follow the documentation from Sci-kit Learn to adapt the code above and train an MLP for the iris dataset.\n",
        "\n",
        "https://scikit-learn.org/stable/modules/generated/sklearn.neural_network.MLPClassifier.html"
      ]
    },
    {
      "cell_type": "code",
      "execution_count": 54,
      "metadata": {
        "id": "WUzhmvXWtXvf",
        "colab": {
          "base_uri": "https://localhost:8080/"
        },
        "outputId": "70331fc6-77e7-4afd-ff4f-0aba931ff0d1"
      },
      "outputs": [
        {
          "output_type": "execute_result",
          "data": {
            "text/plain": [
              "0.8421052631578947"
            ]
          },
          "metadata": {},
          "execution_count": 54
        }
      ],
      "source": [
        "from sklearn.neural_network import MLPClassifier\n",
        "from sklearn.datasets import make_classification\n",
        "from sklearn.model_selection import train_test_split\n",
        "X, y = make_classification(n_samples=150, random_state=1)\n",
        "clf = MLPClassifier(random_state=1, max_iter=10000).fit(X_train, y_train)\n",
        "classifier.fit(X_train, y_train)\n",
        "\n",
        "# predict the targets for the test data\n",
        "y_pred = classifier.predict(X_test)\n",
        "clf.predict_proba(X_test[:1])\n",
        "clf.predict(X_test[:5, :])\n",
        "clf.score(X_test, y_test)\n"
      ]
    },
    {
      "cell_type": "code",
      "source": [
        "from sklearn.neural_network import MLPClassifier\n",
        "from sklearn.datasets import make_classification\n",
        "from sklearn.model_selection import train_test_split\n",
        "X, y = make_classification(n_samples=150, random_state=1)\n",
        "X_train, X_test, y_train, y_test = train_test_split(\n",
        "   X, \n",
        "   y, \n",
        "   test_size = 0.3, # fraction of the data for testing\n",
        "   random_state = 1, # ensures we get the same train and test sets every time\n",
        ")\n",
        "clf = MLPClassifier(random_state=1, max_iter=10000).fit(X_train, y_train)\n",
        "classifier.fit(X_train, y_train)\n",
        "\n",
        "# predict the targets for the test data\n",
        "y_pred = classifier.predict(X_test)\n",
        "clf.predict_proba(X_test[:1])\n",
        "clf.predict(X_test[:5, :])\n",
        "clf.score(X_test, y_test)\n"
      ],
      "metadata": {
        "colab": {
          "base_uri": "https://localhost:8080/"
        },
        "id": "y9qWWcmam6V_",
        "outputId": "3de108de-a14a-42b9-802a-1ea19209f76a"
      },
      "execution_count": 62,
      "outputs": [
        {
          "output_type": "execute_result",
          "data": {
            "text/plain": [
              "0.8222222222222222"
            ]
          },
          "metadata": {},
          "execution_count": 62
        }
      ]
    },
    {
      "cell_type": "code",
      "source": [
        "from sklearn.neural_network import MLPClassifier\n",
        "from sklearn.datasets import make_classification\n",
        "from sklearn.model_selection import train_test_split\n",
        "X, y = make_classification(n_samples=150, random_state=1)\n",
        "X_train, X_test, y_train, y_test = train_test_split(\n",
        "   X, \n",
        "   y, \n",
        "   test_size = 0.4, # fraction of the data for testing\n",
        "   random_state = 1, # ensures we get the same train and test sets every time\n",
        ")\n",
        "clf = MLPClassifier(random_state=1, max_iter=10000).fit(X_train, y_train)\n",
        "classifier.fit(X_train, y_train)\n",
        "\n",
        "# predict the targets for the test data\n",
        "y_pred = classifier.predict(X_test)\n",
        "clf.predict_proba(X_test[:1])\n",
        "clf.predict(X_test[:5, :])\n",
        "clf.score(X_test, y_test)"
      ],
      "metadata": {
        "colab": {
          "base_uri": "https://localhost:8080/"
        },
        "id": "lYC1kYVgnFAr",
        "outputId": "d9e88734-d353-4716-ca61-1ac6bcf6ac65"
      },
      "execution_count": 58,
      "outputs": [
        {
          "output_type": "execute_result",
          "data": {
            "text/plain": [
              "0.7333333333333333"
            ]
          },
          "metadata": {},
          "execution_count": 58
        }
      ]
    },
    {
      "cell_type": "markdown",
      "source": [
        "The neural network does worse as compared to other machine learning models in terms of accuracy. This could be because we have a low sample size. However, it still does pretty good with an accuracy of 86%. Additionally, changing the testing split to increase the % of testing data, decreases the accuracy in this case. "
      ],
      "metadata": {
        "id": "YhdI2V7Hl7kS"
      }
    },
    {
      "cell_type": "markdown",
      "metadata": {
        "id": "N86jsCVqtYdr"
      },
      "source": [
        "How does the MLP performance compare to previous methods you tried?\n",
        "\n",
        "Consider the patterns you saw in the data at the beginning of this notebook. Why might some methods be a better fit for the iris dataset?"
      ]
    },
    {
      "cell_type": "code",
      "execution_count": null,
      "metadata": {
        "id": "9t0zvKxUP7Kn"
      },
      "outputs": [],
      "source": [
        "# Your answer here"
      ]
    },
    {
      "cell_type": "markdown",
      "metadata": {
        "id": "tGYc0x06pnUd"
      },
      "source": [
        "# Try on Other Datasets\n",
        "\n",
        "The iris dataset is a relatively small and simple dataset without many features. Sci-kit Learn provides several other datasets with unique characteristics. Try loading a few more datasets from the website below and test a few classifiers to see which perform well.\n",
        "\n",
        "https://scikit-learn.org/stable/datasets/toy_dataset.html"
      ]
    },
    {
      "cell_type": "code",
      "source": [
        "# loading the wine data set \n",
        "\n",
        "from sklearn.datasets import load_wine\n",
        "\n",
        "wine = load_wine() # load the wine dataset\n",
        "X = wine.data # feature matrix\n",
        "y = wine.target # target vector\n",
        "feature_names = wine.feature_names\n",
        "target_names = wine.target_names\n",
        "\n",
        "print(\"Feature names:\", feature_names)\n",
        "print(\"Target names:\", target_names)"
      ],
      "metadata": {
        "colab": {
          "base_uri": "https://localhost:8080/"
        },
        "id": "y1DwzT6nolVK",
        "outputId": "77b1743a-acfc-4d9f-e8b5-90330dfe3294"
      },
      "execution_count": 64,
      "outputs": [
        {
          "output_type": "stream",
          "name": "stdout",
          "text": [
            "Feature names: ['alcohol', 'malic_acid', 'ash', 'alcalinity_of_ash', 'magnesium', 'total_phenols', 'flavanoids', 'nonflavanoid_phenols', 'proanthocyanins', 'color_intensity', 'hue', 'od280/od315_of_diluted_wines', 'proline']\n",
            "Target names: ['class_0' 'class_1' 'class_2']\n"
          ]
        }
      ]
    },
    {
      "cell_type": "code",
      "execution_count": 67,
      "metadata": {
        "id": "oa0Jom67qM6i",
        "colab": {
          "base_uri": "https://localhost:8080/"
        },
        "outputId": "94498afd-70a2-4cc7-c0c4-723bf3cc4291"
      },
      "outputs": [
        {
          "output_type": "execute_result",
          "data": {
            "text/plain": [
              "0.8222222222222222"
            ]
          },
          "metadata": {},
          "execution_count": 67
        }
      ],
      "source": [
        "#trying on the diabetes data set \n",
        "\n",
        "from sklearn.neural_network import MLPClassifier\n",
        "from sklearn.datasets import make_classification\n",
        "from sklearn.model_selection import train_test_split\n",
        "X, y = make_classification(n_samples=150, random_state=1)\n",
        "clf = MLPClassifier(random_state=1, max_iter=10000).fit(X_train, y_train)\n",
        "classifier.fit(X_train, y_train)\n",
        "\n",
        "# predict the targets for the test data\n",
        "y_pred = classifier.predict(X_test)\n",
        "clf.predict_proba(X_test[:1])\n",
        "clf.predict(X_test[:5, :])\n",
        "clf.score(X_test, y_test)\n"
      ]
    },
    {
      "cell_type": "markdown",
      "metadata": {
        "id": "2kd2sqQhu6wo"
      },
      "source": [
        "Were any datasets particularly challenging for the models you've tested?"
      ]
    },
    {
      "cell_type": "code",
      "execution_count": null,
      "metadata": {
        "id": "3Hj2qKw2P7Ko"
      },
      "outputs": [],
      "source": [
        "# Your answer here"
      ]
    },
    {
      "cell_type": "markdown",
      "metadata": {
        "id": "8PvVjv-QuKeW"
      },
      "source": [
        "# Try Other Classifiers\n",
        "\n",
        "Sci-kit Learn provides a broad set of interchangeable classifiers that can be applied to the datasets you've tested. In the space below, try a few more classifiers on any datasets that seemed challenging for the classifiers you've tried so far.\n",
        "\n",
        "https://scikit-learn.org/stable/supervised_learning.html"
      ]
    },
    {
      "cell_type": "markdown",
      "metadata": {
        "id": "rHFAF3MOvLXE"
      },
      "source": [
        "Support vector machines (SVMs) are a powerful class of models for clasifying data. The code below implements an SVM using Sci-kit learn. "
      ]
    },
    {
      "cell_type": "code",
      "execution_count": 42,
      "metadata": {
        "id": "Uqo4AGupus_7",
        "colab": {
          "base_uri": "https://localhost:8080/"
        },
        "outputId": "41162b15-2a3f-4602-930e-61925b7f4118"
      },
      "outputs": [
        {
          "output_type": "stream",
          "name": "stdout",
          "text": [
            "Accuracy: 0.9833333333333333\n"
          ]
        }
      ],
      "source": [
        "from sklearn.svm import SVC\n",
        "from sklearn import metrics\n",
        "\n",
        "# create the classifier\n",
        "classifier = SVC()\n",
        "\n",
        "# fit the model to the training data\n",
        "classifier.fit(X_train, y_train)\n",
        "\n",
        "# predict the targets for the test data\n",
        "y_pred = classifier.predict(X_test)\n",
        "\n",
        "# measure the accuracy of the model\n",
        "accuracy = metrics.accuracy_score(y_test, y_pred)\n",
        "print(\"Accuracy:\", accuracy)"
      ]
    }
  ],
  "metadata": {
    "colab": {
      "provenance": []
    },
    "kernelspec": {
      "display_name": "Python 3",
      "name": "python3"
    },
    "language_info": {
      "name": "python"
    }
  },
  "nbformat": 4,
  "nbformat_minor": 0
}